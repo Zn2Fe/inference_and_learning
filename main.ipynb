{
 "cells": [
  {
   "attachments": {},
   "cell_type": "markdown",
   "metadata": {},
   "source": [
    "- To rerun any S-LOCAL network you need a minimum of 32GB of RAM/VRAM memory on the device used for training\n",
    "- Average time to run a 100 epoch on a Nvidia Tesla V100 GPU is 20 minutes\n",
    "- A faster implementation of the Locally Connected Layer is available in the Keras API : \n",
    "- https://keras.io/api/layers/locally_connected_layers/locall_connected2d/"
   ]
  },
  {
   "attachments": {},
   "cell_type": "markdown",
   "metadata": {},
   "source": [
    "## Imports"
   ]
  },
  {
   "cell_type": "code",
   "execution_count": 1,
   "metadata": {},
   "outputs": [],
   "source": [
    "INIT_PATH = \".\"\n",
    "DOWNLOAD_DATA = False\n",
    "\n",
    "# To use google colab processing uncomment following lines\n",
    "\n",
    "#INIT_PATH = \"MyDrive/inference_and_learning\"\n",
    "#from google.colab import drive\n",
    "#MOUNT_PATH = \"/content/drive\"\n",
    "#drive.mount(MOUNT_PATH)\n",
    "#INIT_PATH = MOUNT_PATH + \"/\" + INIT_PATH\n",
    "\n",
    "\n",
    "# To train LOCAL change to True\n",
    "LOCAL_TRAIN = False "
   ]
  },
  {
   "cell_type": "code",
   "execution_count": 2,
   "metadata": {},
   "outputs": [],
   "source": [
    "import os.path,sys\n",
    "sys.path.append(INIT_PATH)\n",
    "\n",
    "import networks as nnets\n",
    "import pandas as pd, torch\n",
    "from typing import Tuple, List\n",
    "import torchvision\n",
    "import torch\n",
    "import json\n",
    "torch.set_default_dtype(torch.float16)"
   ]
  },
  {
   "cell_type": "code",
   "execution_count": 3,
   "metadata": {},
   "outputs": [],
   "source": [
    "DATA_PATH = \".\" # Path to data folder\n",
    "if (DOWNLOAD_DATA):\n",
    "    torchvision.datasets.CIFAR10(root=DATA_PATH + '/data', download=True)\n",
    "    torchvision.datasets.CIFAR100(root=DATA_PATH + '/data', download=True)\n",
    "    torchvision.datasets.SVHN(root=DATA_PATH +'/data', download=True)\n",
    "\n",
    "    torchvision.datasets.CIFAR10(root=DATA_PATH +'/data', download=True,train = False)\n",
    "    torchvision.datasets.CIFAR100(root=DATA_PATH +'/data', download=True ,train = False) \n",
    "    torchvision.datasets.SVHN(root=DATA_PATH +'/data', download=True, split = \"test\")\n"
   ]
  },
  {
   "attachments": {},
   "cell_type": "markdown",
   "metadata": {},
   "source": [
    "## OPTIONAL: optimization of parameters"
   ]
  },
  {
   "attachments": {},
   "cell_type": "markdown",
   "metadata": {},
   "source": [
    "You may use this script to test different hyperparameters\n",
    "Load the network description in the file files/optim.json\n",
    "The file is a json file with the following structure :\n",
    "```json\n",
    "{\n",
    "    \"optim\":{ // Hyperparameters to optimize\n",
    "        \"model\":{ // Hyperparameters to optimize for the model\n",
    "            \"S-LOCAL\":{ // Model you want to optimize hyperparameters on \n",
    "                \"hidden_size\":[64,128,256,512], // List of values to test\n",
    "                \"dropout\":[0.1,0.2,0.3,0.4,0.5] // List of values to test\n",
    "            }\n",
    "        }\n",
    "    },\n",
    "    \"networks\":{ // List of networks to test\n",
    "        \"S-LOCAL-64-0.1\":{ // Name of the network\n",
    "            //add the network default description here\n",
    "        }\n",
    "    },\n",
    "    \"results\":{ // Results of the optimization\n",
    "        \"S-LOCAL-64-0.1\":{ //Name of the network\n",
    "            \"best\":{ \n",
    "                // Best hyperparameters found\n",
    "            },\n",
    "            \"accuracy\":0.9 // Accuracy of the best hyperparameters\n",
    "        }\n",
    "    }\n",
    "}\n",
    "```"
   ]
  },
  {
   "cell_type": "code",
   "execution_count": 4,
   "metadata": {},
   "outputs": [
    {
     "name": "stdout",
     "output_type": "stream",
     "text": [
      "Starting S-CONV_SGD_CIFAR-10\n",
      "Calculating accuracy for default parameters\n",
      "Training Network: S-CONV, CIFAR-10, SGD using : 255.792754 M parameters on cuda\n",
      "43.45%, 50.48%, 57.21%, 59.66%, 60.66%, 63.04%, 63.55%, 62.93%, 64.34%, 65.17%,  : 10/100\n",
      "65.39%, 65.03%, 65.67%, 65.88%, 66.17%, 66.32%, 66.39%, 66.33%, 66.33%, 66.30%,  : 20/100\n",
      "60.70%, 62.84%, 62.84%, 63.05%, 63.34%, 62.68%, 64.15%, 62.95%, 64.41%, 65.00%,  : 30/100\n",
      "65.29%, 65.81%, 65.55%, 65.71%, 66.43%, 67.23%, 67.54%, 67.73%, 67.93%, 67.66%,  : 40/100\n",
      "67.67%, 67.75%, 68.26%, 68.26%, 67.92%, 68.05%, 68.34%, 68.35%, 68.41%, 68.40%,  : 50/100\n",
      "68.42%, 68.40%, 68.60%, 68.55%, 68.65%, 68.56%, 68.54%, 68.60%, 68.56%, 68.56%,  : 60/100\n",
      "42.92%, 50.46%, "
     ]
    }
   ],
   "source": [
    "optim = json.load(open(INIT_PATH+\"/files/optim.json\"))\n",
    "optimer = nnets.NetworkOptim(optim[\"optim\"],DATA_PATH,epoch=100,verbose = True,very_verbose = True)\n",
    "\n",
    "for key,item in optim[\"networks\"].items():\n",
    "    if key in optim[\"results\"]:\n",
    "        print(f\"Skipping {key} as it is already done\")\n",
    "        continue\n",
    "    if not LOCAL_TRAIN and item[\"model\"][\"name\"] in [\"S-LOCAL\",\"D-LOCAL\"]:\n",
    "        print(f\"Skipping {key} as it is a localy connected network\")\n",
    "        continue\n",
    "    print(f\"Starting {key}\")\n",
    "    acc,best = optimer(item)\n",
    "    print(f\"Best : {best} with accuracy {acc}\")\n",
    "    optim[\"results\"][key] = {\"best\":best,\"accuracy\":acc}\n",
    "    json.dump(optim,open(INIT_PATH+\"/files/optim.json\",\"w\"))"
   ]
  },
  {
   "attachments": {},
   "cell_type": "markdown",
   "metadata": {},
   "source": [
    "## Reproducing the paper\n",
    "\n",
    "### Table 2\n"
   ]
  },
  {
   "cell_type": "code",
   "execution_count": null,
   "metadata": {},
   "outputs": [],
   "source": [
    "table2 = pd.read_csv(INIT_PATH+\"/files/table2.csv\")\n",
    "table2_net = json.load(open(INIT_PATH+\"/files/table2.json\"))\n",
    "RETRAIN = True\n",
    "\n",
    "if RETRAIN :\n",
    "    for dataset in [\"CIFAR-10\",\"CIFAR-100\",\"SVHN\"]:\n",
    "        for l in range(len(table2)):\n",
    "            network = table2.iloc[l].to_dict()\n",
    "            if network[\"train\"]==\"False\" or (network[dataset] == \"NaN\"):\n",
    "                continue\n",
    "            ID = \"_\".join([network[i] for i in [\"Model\",\"Training_Method\"]]+[dataset])\n",
    "            if not LOCAL_TRAIN and table2_net[ID][\"model\"][\"name\"] in [\"S-LOCAL\",\"D-LOCAL\"]:\n",
    "                print(f\"Skipping {key} as it is a localy connected network\")\n",
    "                continue\n",
    "            save_model_0 = False\n",
    "            if network[\"model\"] == \"S-FC\" and network[\"training_method\"] == \"B-lasso(B=50)\":\n",
    "                save_model_0 = True\n",
    "            acc,model,non_zero = nnets.train(table2_net[ID],DATA_PATH,verbose = True,save_number_of_non_zero=save_model_0,very_verbose=False) \n",
    "            table2.loc[l,dataset] = acc\n",
    "            table2.to_csv(INIT_PATH+\"/csv/table2.csv\",index = False)\n",
    "            torch.save(model.state_dict(),INIT_PATH+\"/network_saved/\"+ID+\".pt\")\n",
    "            if(save_model_0):\n",
    "                json.dump(non_zero,open(INIT_PATH+\"/files/figure3.json\",\"w\"))\n",
    "\n",
    "print(table2)"
   ]
  },
  {
   "attachments": {},
   "cell_type": "markdown",
   "metadata": {},
   "source": [
    "### figure 3\n",
    "We can reuse result saved while training table 2"
   ]
  },
  {
   "cell_type": "code",
   "execution_count": null,
   "metadata": {},
   "outputs": [],
   "source": []
  },
  {
   "attachments": {},
   "cell_type": "markdown",
   "metadata": {},
   "source": [
    "### figure 4"
   ]
  },
  {
   "cell_type": "code",
   "execution_count": null,
   "metadata": {},
   "outputs": [],
   "source": []
  },
  {
   "cell_type": "code",
   "execution_count": null,
   "metadata": {},
   "outputs": [],
   "source": []
  }
 ],
 "metadata": {
  "kernelspec": {
   "display_name": "cudaenabled",
   "language": "python",
   "name": "python3"
  },
  "language_info": {
   "codemirror_mode": {
    "name": "ipython",
    "version": 3
   },
   "file_extension": ".py",
   "mimetype": "text/x-python",
   "name": "python",
   "nbconvert_exporter": "python",
   "pygments_lexer": "ipython3",
   "version": "3.10.8"
  },
  "orig_nbformat": 4,
  "vscode": {
   "interpreter": {
    "hash": "e63968e63be298c54f0ef6fc5f307c0f048e4cbeb5634e9b9b715fe9de39ba43"
   }
  }
 },
 "nbformat": 4,
 "nbformat_minor": 2
}
