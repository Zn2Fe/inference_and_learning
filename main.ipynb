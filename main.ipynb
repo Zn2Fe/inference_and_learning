{
 "cells": [
  {
   "cell_type": "code",
   "execution_count": 4,
   "metadata": {},
   "outputs": [],
   "source": [
    "import torch\n",
    "DEVICE = torch.device(\"cuda\" if torch.cuda.is_available() else \"cpu\")"
   ]
  },
  {
   "attachments": {},
   "cell_type": "markdown",
   "metadata": {},
   "source": [
    "# Inference and learning final project\n",
    "\n",
    "## Introduction\n"
   ]
  },
  {
   "attachments": {},
   "cell_type": "markdown",
   "metadata": {},
   "source": [
    "## Creating Neural Networks"
   ]
  },
  {
   "cell_type": "code",
   "execution_count": 3,
   "metadata": {},
   "outputs": [
    {
     "data": {
      "text/plain": [
       "device(type='cuda')"
      ]
     },
     "execution_count": 3,
     "metadata": {},
     "output_type": "execute_result"
    }
   ],
   "source": [
    "class D_Conv(torch.nn.Module):\n",
    "    def __init__(self, base_channel_size, local = False, FC = False) -> None:\n",
    "        alpha = base_channel_size\n",
    "        super().__init__()\n",
    "        modules = []\n",
    "        size_conv = [\n",
    "            (3,0),\n",
    "            (alpha,1),\n",
    "            (2*alpha,2),\n",
    "            (2*alpha,1),\n",
    "            (4*alpha,2),\n",
    "            (4*alpha,1),\n",
    "            (8*alpha,2),\n",
    "            (8*alpha,1),\n",
    "            (16*alpha,2),\n",
    "            (64*alpha,2)]\n",
    "        for i in range(1,len(size_conv)):\n",
    "            modules.extend([\n",
    "                torch.nn.Conv2d(\n",
    "                    in_channels= size_conv[i-1][0],\n",
    "                    out_channels=size_conv[i][0],\n",
    "                    kernel_size=3,\n",
    "                    stride=size_conv[i][1]),\n",
    "                torch.nn.BatchNorm2d(size_conv[i][0]),\n",
    "                torch.nn.ReLU()\n",
    "            ])\n",
    "        self.conv = torch.nn.Sequential(*modules)\n",
    "        self.fc = torch.nn.Sequential(\n",
    "            torch.nn.Linear(16*alpha*4*4, 64*alpha),\n",
    "            torch.nn.BatchNorm1d(64*alpha),\n",
    "            torch.nn.ReLU(),\n",
    "            torch.nn.Linear(64*alpha, 10),\n",
    "        )\n",
    "\n",
    "    def forward(self, x):\n",
    "        x = self.conv(x)\n",
    "        x = x.view(x.size(0), -1)\n",
    "        x = self.fc(x)\n",
    "        return x\n",
    "\n",
    "class S_Conv(torch.nn.Module):\n",
    "    def __init__(self, base_channel_size, local = False, FC = False) -> None:\n",
    "        alpha = base_channel_size\n",
    "        super().__init__()\n",
    "        self.conv = torch.nn.Sequential(\n",
    "            torch.nn.Conv2d(\n",
    "                in_channels=3,\n",
    "                out_channels= alpha,\n",
    "                kernel_size=9,\n",
    "                stride = 2),\n",
    "            torch.nn.BatchNorm2d(alpha),\n",
    "            torch.nn.ReLU()\n",
    "        )\n",
    "        self.fc = torch.nn.Sequential(\n",
    "            torch.nn.Linear(alpha*4*4, 24*alpha),\n",
    "            torch.nn.BatchNorm1d(24*alpha),\n",
    "            torch.nn.ReLU(),\n",
    "            torch.nn.Linear(24*alpha, 10),\n",
    "        )\n",
    "\n",
    "    def forward(self, x):\n",
    "        x = self.conv(x)\n",
    "        x = x.view(x.size(0), -1)\n",
    "        x = self.fc(x)\n",
    "        return x\n",
    "    "
   ]
  },
  {
   "cell_type": "code",
   "execution_count": null,
   "metadata": {},
   "outputs": [],
   "source": []
  }
 ],
 "metadata": {
  "kernelspec": {
   "display_name": "cudaenabled",
   "language": "python",
   "name": "python3"
  },
  "language_info": {
   "codemirror_mode": {
    "name": "ipython",
    "version": 3
   },
   "file_extension": ".py",
   "mimetype": "text/x-python",
   "name": "python",
   "nbconvert_exporter": "python",
   "pygments_lexer": "ipython3",
   "version": "3.10.8"
  },
  "orig_nbformat": 4,
  "vscode": {
   "interpreter": {
    "hash": "e63968e63be298c54f0ef6fc5f307c0f048e4cbeb5634e9b9b715fe9de39ba43"
   }
  }
 },
 "nbformat": 4,
 "nbformat_minor": 2
}
