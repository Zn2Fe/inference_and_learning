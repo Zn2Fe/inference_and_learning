{
 "cells": [
  {
   "cell_type": "code",
   "execution_count": 20,
   "metadata": {},
   "outputs": [],
   "source": [
    "import torch\n",
    "DEVICE = torch.device(\"cuda\" if torch.cuda.is_available() else \"cpu\")\n",
    "from collections import OrderedDict"
   ]
  },
  {
   "attachments": {},
   "cell_type": "markdown",
   "metadata": {},
   "source": [
    "# Inference and learning final project\n",
    "\n",
    "## Introduction\n"
   ]
  },
  {
   "attachments": {},
   "cell_type": "markdown",
   "metadata": {},
   "source": [
    "## Imports"
   ]
  },
  {
   "cell_type": "code",
   "execution_count": 2,
   "metadata": {},
   "outputs": [],
   "source": []
  },
  {
   "cell_type": "code",
   "execution_count": 24,
   "metadata": {},
   "outputs": [],
   "source": [
    "class D_Conv(torch.nn.Module):\n",
    "    def __init__(self, base_channel_size, local = False, FC = False) -> None:\n",
    "        alpha = base_channel_size\n",
    "        super().__init__()\n",
    "        modules = OrderedDict()\n",
    "        size_conv = [\n",
    "            (3,0),\n",
    "            (alpha,1),\n",
    "            (2*alpha,2),\n",
    "            (2*alpha,1),\n",
    "            (4*alpha,2),\n",
    "            (4*alpha,1),\n",
    "            (8*alpha,2),\n",
    "            (8*alpha,1),\n",
    "            (16*alpha,2),\n",
    "            (64*alpha,2)]\n",
    "        for i in range(1,len(size_conv)):\n",
    "            modules[\" {} - 3*3 Conv({},{})\".format(i, size_conv[i][0], size_conv[i][1])] = torch.nn.Conv2d(\n",
    "                    in_channels= size_conv[i-1][0],\n",
    "                    out_channels=size_conv[i][0],\n",
    "                    kernel_size=3,\n",
    "                    stride=size_conv[i][1])\n",
    "            modules[\" {} - BatchNorm()\".format(i)] = torch.nn.BatchNorm2d(size_conv[i][0])\n",
    "            modules[\" {} - ReLU()\".format(i)] = torch.nn.ReLU()\n",
    "            \n",
    "        self.conv = torch.nn.Sequential(modules)\n",
    "        self.fc = torch.nn.Sequential(\n",
    "            torch.nn.Linear(16*alpha*4*4, 64*alpha),\n",
    "            torch.nn.BatchNorm1d(64*alpha),\n",
    "            torch.nn.ReLU(),\n",
    "            torch.nn.Linear(64*alpha, 10),\n",
    "        )\n",
    "\n",
    "    def forward(self, x):\n",
    "        x = self.conv(x)\n",
    "        x = x.view(x.size(0), -1)\n",
    "        x = self.fc(x)\n",
    "        return x\n",
    "\n",
    "class S_Conv(torch.nn.Module):\n",
    "    def __init__(self, base_channel_size, local = False, FC = False) -> None:\n",
    "        alpha = base_channel_size\n",
    "        super().__init__()\n",
    "        self.conv = torch.nn.Sequential(\n",
    "            torch.nn.Conv2d(\n",
    "                in_channels=3,\n",
    "                out_channels= alpha,\n",
    "                kernel_size=9,\n",
    "                stride = 2),\n",
    "            torch.nn.BatchNorm2d(alpha),\n",
    "            torch.nn.ReLU()\n",
    "        )\n",
    "        self.fc = torch.nn.Sequential(\n",
    "            torch.nn.Linear(alpha*4*4, 24*alpha),\n",
    "            torch.nn.BatchNorm1d(24*alpha),\n",
    "            torch.nn.ReLU(),\n",
    "            torch.nn.Linear(24*alpha, 10),\n",
    "        )\n",
    "\n",
    "    def forward(self, x):\n",
    "        x = self.conv(x)\n",
    "        x = x.view(x.size(0), -1)\n",
    "        x = self.fc(x)\n",
    "        return x\n",
    "    "
   ]
  },
  {
   "cell_type": "code",
   "execution_count": 30,
   "metadata": {},
   "outputs": [
    {
     "name": "stdout",
     "output_type": "stream",
     "text": [
      "conv. 1 - 3*3 Conv(5,1).weight torch.Size([5, 3, 3, 3])\n",
      "conv. 1 - 3*3 Conv(5,1).bias torch.Size([5])\n",
      "conv. 1 - BatchNorm().weight torch.Size([5])\n",
      "conv. 1 - BatchNorm().bias torch.Size([5])\n",
      "conv. 2 - 3*3 Conv(10,2).weight torch.Size([10, 5, 3, 3])\n",
      "conv. 2 - 3*3 Conv(10,2).bias torch.Size([10])\n",
      "conv. 2 - BatchNorm().weight torch.Size([10])\n",
      "conv. 2 - BatchNorm().bias torch.Size([10])\n",
      "conv. 3 - 3*3 Conv(10,1).weight torch.Size([10, 10, 3, 3])\n",
      "conv. 3 - 3*3 Conv(10,1).bias torch.Size([10])\n",
      "conv. 3 - BatchNorm().weight torch.Size([10])\n",
      "conv. 3 - BatchNorm().bias torch.Size([10])\n",
      "conv. 4 - 3*3 Conv(20,2).weight torch.Size([20, 10, 3, 3])\n",
      "conv. 4 - 3*3 Conv(20,2).bias torch.Size([20])\n",
      "conv. 4 - BatchNorm().weight torch.Size([20])\n",
      "conv. 4 - BatchNorm().bias torch.Size([20])\n",
      "conv. 5 - 3*3 Conv(20,1).weight torch.Size([20, 20, 3, 3])\n",
      "conv. 5 - 3*3 Conv(20,1).bias torch.Size([20])\n",
      "conv. 5 - BatchNorm().weight torch.Size([20])\n",
      "conv. 5 - BatchNorm().bias torch.Size([20])\n",
      "conv. 6 - 3*3 Conv(40,2).weight torch.Size([40, 20, 3, 3])\n",
      "conv. 6 - 3*3 Conv(40,2).bias torch.Size([40])\n",
      "conv. 6 - BatchNorm().weight torch.Size([40])\n",
      "conv. 6 - BatchNorm().bias torch.Size([40])\n",
      "conv. 7 - 3*3 Conv(40,1).weight torch.Size([40, 40, 3, 3])\n",
      "conv. 7 - 3*3 Conv(40,1).bias torch.Size([40])\n",
      "conv. 7 - BatchNorm().weight torch.Size([40])\n",
      "conv. 7 - BatchNorm().bias torch.Size([40])\n",
      "conv. 8 - 3*3 Conv(80,2).weight torch.Size([80, 40, 3, 3])\n",
      "conv. 8 - 3*3 Conv(80,2).bias torch.Size([80])\n",
      "conv. 8 - BatchNorm().weight torch.Size([80])\n",
      "conv. 8 - BatchNorm().bias torch.Size([80])\n",
      "conv. 9 - 3*3 Conv(320,2).weight torch.Size([320, 80, 3, 3])\n",
      "conv. 9 - 3*3 Conv(320,2).bias torch.Size([320])\n",
      "conv. 9 - BatchNorm().weight torch.Size([320])\n",
      "conv. 9 - BatchNorm().bias torch.Size([320])\n",
      "fc.0.weight torch.Size([320, 1280])\n",
      "fc.0.bias torch.Size([320])\n",
      "fc.1.weight torch.Size([320])\n",
      "fc.1.bias torch.Size([320])\n",
      "fc.3.weight torch.Size([10, 320])\n",
      "fc.3.bias torch.Size([10])\n"
     ]
    }
   ],
   "source": [
    "test = D_Conv(5)\n",
    "for name, param in test.named_parameters():\n",
    "    if param.requires_grad:\n",
    "        print(name, param.size())"
   ]
  },
  {
   "cell_type": "code",
   "execution_count": null,
   "metadata": {},
   "outputs": [],
   "source": []
  }
 ],
 "metadata": {
  "kernelspec": {
   "display_name": "cudaenabled",
   "language": "python",
   "name": "python3"
  },
  "language_info": {
   "codemirror_mode": {
    "name": "ipython",
    "version": 3
   },
   "file_extension": ".py",
   "mimetype": "text/x-python",
   "name": "python",
   "nbconvert_exporter": "python",
   "pygments_lexer": "ipython3",
   "version": "3.10.8"
  },
  "orig_nbformat": 4,
  "vscode": {
   "interpreter": {
    "hash": "e63968e63be298c54f0ef6fc5f307c0f048e4cbeb5634e9b9b715fe9de39ba43"
   }
  }
 },
 "nbformat": 4,
 "nbformat_minor": 2
}
