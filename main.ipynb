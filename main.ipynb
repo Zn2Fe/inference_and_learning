{
 "cells": [
  {
   "attachments": {},
   "cell_type": "markdown",
   "metadata": {},
   "source": [
    "## Imports"
   ]
  },
  {
   "cell_type": "code",
   "execution_count": 1,
   "metadata": {},
   "outputs": [],
   "source": [
    "INIT_PATH = \".\"\n",
    "DOWNLOAD_DATA = False\n",
    "\n",
    "# To use google colab processing uncomment following lines\n",
    "\n",
    "#INIT_PATH = \"MyDrive/inference_and_learning\"\n",
    "#from google.colab import drive\n",
    "#MOUNT_PATH = \"/content/drive\"\n",
    "#drive.mount(MOUNT_PATH)\n",
    "#INIT_PATH = MOUNT_PATH + \"/\" + INIT_PATH\n",
    "#DOWNLOAD_DATA = True\n",
    "\n",
    "# To train set to true, to use pretrained model set to false\n",
    "RETRAIN = False\n",
    "LOCAL_TRAIN = True # Only for Local Linear Model\n",
    "REOPTIMIZE = False\n",
    "\n",
    "# To avoid out of memory error, adjust \n",
    "NUM_THREADS = 1"
   ]
  },
  {
   "cell_type": "code",
   "execution_count": 2,
   "metadata": {},
   "outputs": [],
   "source": [
    "import os.path,sys\n",
    "sys.path.append(INIT_PATH)\n",
    "\n",
    "import networks as nnets\n",
    "import importlib\n",
    "importlib.reload(nnets)\n",
    "import pandas as pd, torch\n",
    "from typing import Tuple, List\n",
    "import torch, torchvision\n",
    "\n",
    "from time import sleep\n",
    "import json\n",
    "from IPython.display import display, HTML\n",
    "torch.set_default_dtype(torch.float16)"
   ]
  },
  {
   "cell_type": "code",
   "execution_count": 3,
   "metadata": {},
   "outputs": [],
   "source": [
    "DATA_PATH = \".\" # Path to data folder\n",
    "if (DOWNLOAD_DATA):\n",
    "    torchvision.datasets.CIFAR10(root=DATA_PATH + '/data', download=True)\n",
    "    torchvision.datasets.CIFAR100(root=DATA_PATH + '/data', download=True)\n",
    "    torchvision.datasets.SVHN(root=DATA_PATH +'/data', download=True)\n",
    "\n",
    "    torchvision.datasets.CIFAR10(root=DATA_PATH +'/data', download=True,train = False)\n",
    "    torchvision.datasets.CIFAR100(root=DATA_PATH +'/data', download=True ,train = False) \n",
    "    torchvision.datasets.SVHN(root=DATA_PATH +'/data', download=True, split = \"test\")\n"
   ]
  },
  {
   "attachments": {},
   "cell_type": "markdown",
   "metadata": {},
   "source": [
    "## Training\n",
    "The following code trains network and save result in files\n",
    "\n",
    "Two steps are realized :\n",
    "1. Optimization of the hyperparameters from the optim file\n",
    "2. Training of the network from the train file\n",
    "    "
   ]
  },
  {
   "cell_type": "code",
   "execution_count": 4,
   "metadata": {},
   "outputs": [
    {
     "name": "stdout",
     "output_type": "stream",
     "text": [
      "Trainer ready\n"
     ]
    }
   ],
   "source": [
    "trainer = nnets.ThreadedTrainer(\n",
    "    num_threads= NUM_THREADS,\n",
    "    DATA_PATH=DATA_PATH,\n",
    "    SAVE_RESULT_PATH= INIT_PATH + \"/files/results.json\",\n",
    "    SAVE_NETWORK_PATH=INIT_PATH + \"/networks_saved/\",\n",
    "    SAVE_NON_ZERO_PATH = INIT_PATH + \"/files/non_zero.json\",\n",
    "    saving_step= 20\n",
    ")"
   ]
  },
  {
   "attachments": {},
   "cell_type": "markdown",
   "metadata": {},
   "source": [
    "### Optimization\n"
   ]
  },
  {
   "attachments": {},
   "cell_type": "markdown",
   "metadata": {},
   "source": [
    "You may use this script to test different hyperparameters\n",
    "Load the network description in the file files/optim.json\n",
    "The file is a json file with the following structure :\n",
    "```json\n",
    "{\n",
    "    \"optim\":{ // Hyperparameters to optimize\n",
    "        \"model\":{ // Hyperparameters to optimize for the model\n",
    "            \"S-LOCAL\":{ // Model you want to optimize hyperparameters on \n",
    "                \"hidden_size\":[64,128,256,512], // List of values to test\n",
    "                \"dropout\":[0.1,0.2,0.3,0.4,0.5] // List of values to test\n",
    "            }\n",
    "        }\n",
    "    },\n",
    "    \"networks\":{ // List of networks to test\n",
    "        \"S-LOCAL-64-0.1\":{ // Name of the network\n",
    "            //add the network default description here\n",
    "        }\n",
    "    },\n",
    "    \"results\":{ // Results of the optimization\n",
    "        \"S-LOCAL-64-0.1\":{ //Name of the network\n",
    "            \"best\":{ \n",
    "                // Best hyperparameters found\n",
    "            },\n",
    "            \"accuracy\":0.9 // Accuracy of the best hyperparameters\n",
    "        }\n",
    "    }\n",
    "}\n",
    "```"
   ]
  },
  {
   "cell_type": "code",
   "execution_count": 5,
   "metadata": {},
   "outputs": [],
   "source": [
    "if REOPTIMIZE :\n",
    "    optim = json.load(open(INIT_PATH+\"/files/optim.json\"))\n",
    "\n",
    "    list_to_do = [key for key,item in optim[\"networks\"].items() if\n",
    "                key not in optim[\"results\"] and\n",
    "                not (not LOCAL_TRAIN and item[\"model\"][\"name\"] in [\"S-LOCAL\",\"D-LOCAL\"])]\n",
    "\n",
    "    for key in list_to_do:\n",
    "        nnets.network_thread(optim,key, trainer)\n",
    "    "
   ]
  },
  {
   "cell_type": "code",
   "execution_count": null,
   "metadata": {},
   "outputs": [],
   "source": []
  },
  {
   "attachments": {},
   "cell_type": "markdown",
   "metadata": {},
   "source": [
    "### Training"
   ]
  },
  {
   "attachments": {},
   "cell_type": "markdown",
   "metadata": {},
   "source": [
    "You may use this script to train networks from the /files/train.json file"
   ]
  },
  {
   "cell_type": "code",
   "execution_count": 5,
   "metadata": {},
   "outputs": [],
   "source": [
    "train_net = json.load(open(INIT_PATH+\"/files/train.json\"))\n",
    "for key,item in train_net.items():\n",
    "    if item[\"model\"][\"name\"] in [\"S-LOCAL\",\"D-LOCAL\"] and not LOCAL_TRAIN:\n",
    "        continue\n",
    "    if not RETRAIN and os.path.isfile(INIT_PATH+\"/networks_saved/\"+key+\".pth\"):\n",
    "        continue\n",
    "    trainer.add(key,nnets.Network(item),item[\"model\"][\"name\"] == \"S-FC\" and key.split(\"_\")[1] == \"B-lasso(B=50)\")"
   ]
  },
  {
   "cell_type": "code",
   "execution_count": 6,
   "metadata": {},
   "outputs": [
    {
     "name": "stdout",
     "output_type": "stream",
     "text": [
      "RESULTS :\n",
      "         Model     |   Optimizer   |    Dataset    ||    optimization_parameters   ||    accuracy   \n",
      "    ---------------|---------------|---------------||------------------------------||---------------\n",
      "         S-CONV    |      SGD      |    CIFAR-10   ||              ¤               ||     62.37     \n",
      "         S-CONV    |      SGD      |   CIFAR-100   ||              ¤               ||     30.46     \n",
      "         S-CONV    |      SGD      |      SVHN     ||              ¤               ||     85.57     \n",
      "          3-FC     |      SGD      |    CIFAR-10   ||              ¤               ||     59.44     \n",
      "          S-FC     |      SGD      |   CIFAR-100   ||              ¤               ||     32.12     \n",
      "          3-FC     |      SGD      |   CIFAR-100   ||              ¤               ||     30.80     \n",
      "          S-FC     |      SGD      |      SVHN     ||              ¤               ||     85.64     \n",
      "          3-FC     |      SGD      |      SVHN     ||              ¤               ||     44.29     \n",
      "          S-FC     |  B-lasso(B=0) |   CIFAR-100   ||              ¤               ||     31.11     \n",
      "          S-FC     |  B-lasso(B=0) |    CIFAR-10   ||              ¤               ||     59.03     \n",
      "          S-FC     |  B-lasso(B=0) |      SVHN     ||              ¤               ||     87.26     \n",
      "          S-FC     | B-lasso(B=10) |    CIFAR-10   ||              ¤               ||     57.63     \n",
      "          S-FC     | B-lasso(B=10) |   CIFAR-100   ||              ¤               ||     30.37     \n",
      "          S-FC     | B-lasso(B=10) |      SVHN     ||              ¤               ||     86.86     \n",
      "          S-FC     |      SGD      |    CIFAR-10   ||              ¤               ||     59.80     \n",
      "          S-FC     | B-lasso(B=50) |      SVHN     ||              ¤               ||     86.98     \n",
      "          S-FC     | B-lasso(B=50) |   CIFAR-100   ||              ¤               ||     29.77     \n",
      "          S-FC     | B-lasso(B=50) |    CIFAR-10   ||              ¤               ||     58.24     \n",
      "        S-LOCAL    |      SGD      |    CIFAR-10   ||              ¤               ||     57.91     \n",
      "\n",
      "TASKS REMAINING :\n",
      "    1. S-LOCAL_SGD_SVHN\n",
      "\n",
      "GENERAL INFO :\n",
      "    Accuracy updated every 20 epochs\n",
      "    GPU available: 1.64GB out of 8.35GB\n",
      "    GPU max usage: 3.32GB out of 8.35GB\n",
      "\n",
      "THREADS :\n",
      "    Thread    ||  Trainer-0  ||\n",
      "    ----------||-------------||\n",
      "    Model     || S-LOCAL     ||\n",
      "    Dataset   || CIFAR-100   ||\n",
      "    Optimizer || SGD         ||\n",
      "    cuda      || cuda        ||\n",
      "    epoch max || 400         ||\n",
      "    Size      || 147.98 M    ||\n",
      "    ----------||-------------||\n",
      "    Accuracy  || 120: 29.22% ||\n",
      "    Epoch     || 126         ||\r"
     ]
    }
   ],
   "source": [
    "trainer.progress()"
   ]
  },
  {
   "attachments": {},
   "cell_type": "markdown",
   "metadata": {},
   "source": [
    "### Destroy trainer"
   ]
  },
  {
   "cell_type": "code",
   "execution_count": null,
   "metadata": {},
   "outputs": [],
   "source": [
    "del trainer"
   ]
  },
  {
   "attachments": {},
   "cell_type": "markdown",
   "metadata": {},
   "source": [
    "## Reproducing the paper\n"
   ]
  },
  {
   "attachments": {},
   "cell_type": "markdown",
   "metadata": {},
   "source": [
    "### Table 2"
   ]
  },
  {
   "cell_type": "code",
   "execution_count": 15,
   "metadata": {},
   "outputs": [
    {
     "data": {
      "text/html": [
       "<div>\n",
       "<style scoped>\n",
       "    .dataframe tbody tr th:only-of-type {\n",
       "        vertical-align: middle;\n",
       "    }\n",
       "\n",
       "    .dataframe tbody tr th {\n",
       "        vertical-align: top;\n",
       "    }\n",
       "\n",
       "    .dataframe thead th {\n",
       "        text-align: right;\n",
       "    }\n",
       "</style>\n",
       "<table border=\"1\" class=\"dataframe\">\n",
       "  <thead>\n",
       "    <tr style=\"text-align: right;\">\n",
       "      <th></th>\n",
       "      <th>Model</th>\n",
       "      <th>Training_Method</th>\n",
       "      <th>CIFAR-10</th>\n",
       "      <th>CIFAR-100</th>\n",
       "      <th>SVHN</th>\n",
       "    </tr>\n",
       "  </thead>\n",
       "  <tbody>\n",
       "    <tr>\n",
       "      <th>0</th>\n",
       "      <td>S-CONV</td>\n",
       "      <td>SGD</td>\n",
       "      <td>62.37%</td>\n",
       "      <td>30.46%</td>\n",
       "      <td>85.57%</td>\n",
       "    </tr>\n",
       "    <tr>\n",
       "      <th>1</th>\n",
       "      <td>S-LOCAL</td>\n",
       "      <td>SGD</td>\n",
       "      <td>0%</td>\n",
       "      <td>0%</td>\n",
       "      <td>0%</td>\n",
       "    </tr>\n",
       "    <tr>\n",
       "      <th>2</th>\n",
       "      <td>MLP (Neyshabur et al. 2019)</td>\n",
       "      <td>SGD</td>\n",
       "      <td>58.1%</td>\n",
       "      <td></td>\n",
       "      <td>84.3%</td>\n",
       "    </tr>\n",
       "    <tr>\n",
       "      <th>3</th>\n",
       "      <td>MLP (Mukkamala and Hein 2017)</td>\n",
       "      <td>ADAM_RMS</td>\n",
       "      <td>72.2%</td>\n",
       "      <td>39.3%</td>\n",
       "      <td></td>\n",
       "    </tr>\n",
       "    <tr>\n",
       "      <th>4</th>\n",
       "      <td>MLP (Mocanu et al. 2018)</td>\n",
       "      <td>SET</td>\n",
       "      <td>74.84%</td>\n",
       "      <td></td>\n",
       "      <td></td>\n",
       "    </tr>\n",
       "    <tr>\n",
       "      <th>5</th>\n",
       "      <td>MLP (Urban et al. 2017)</td>\n",
       "      <td>deep_conv_teacher</td>\n",
       "      <td>74.3%</td>\n",
       "      <td></td>\n",
       "      <td></td>\n",
       "    </tr>\n",
       "    <tr>\n",
       "      <th>6</th>\n",
       "      <td>MLP (Lin et al. 2016)</td>\n",
       "      <td>ZAE</td>\n",
       "      <td>78.62%</td>\n",
       "      <td></td>\n",
       "      <td></td>\n",
       "    </tr>\n",
       "    <tr>\n",
       "      <th>7</th>\n",
       "      <td>3-FC</td>\n",
       "      <td>SGD</td>\n",
       "      <td>59.44%</td>\n",
       "      <td>30.80%</td>\n",
       "      <td>44.29%</td>\n",
       "    </tr>\n",
       "    <tr>\n",
       "      <th>8</th>\n",
       "      <td>S-FC</td>\n",
       "      <td>SGD</td>\n",
       "      <td>59.80%</td>\n",
       "      <td>32.12%</td>\n",
       "      <td>85.64%</td>\n",
       "    </tr>\n",
       "    <tr>\n",
       "      <th>9</th>\n",
       "      <td>S-FC</td>\n",
       "      <td>B-lasso(B=0)</td>\n",
       "      <td>59.03%</td>\n",
       "      <td>31.11%</td>\n",
       "      <td>87.26%</td>\n",
       "    </tr>\n",
       "    <tr>\n",
       "      <th>10</th>\n",
       "      <td>S-FC</td>\n",
       "      <td>B-lasso(B=10)</td>\n",
       "      <td>57.63%</td>\n",
       "      <td>30.37%</td>\n",
       "      <td>86.86%</td>\n",
       "    </tr>\n",
       "    <tr>\n",
       "      <th>11</th>\n",
       "      <td>S-FC</td>\n",
       "      <td>B-lasso(B=50)</td>\n",
       "      <td>58.24%</td>\n",
       "      <td>29.77%</td>\n",
       "      <td>86.98%</td>\n",
       "    </tr>\n",
       "  </tbody>\n",
       "</table>\n",
       "</div>"
      ],
      "text/plain": [
       "<IPython.core.display.HTML object>"
      ]
     },
     "metadata": {},
     "output_type": "display_data"
    }
   ],
   "source": [
    "table2 = pd.read_csv(INIT_PATH+\"/files_paper/table2.csv\")\n",
    "results = json.load(open(INIT_PATH+\"/files/results.json\"))\n",
    "\n",
    "for dataset in [\"CIFAR-10\",\"CIFAR-100\",\"SVHN\"]:\n",
    "    for line in range(len(table2)):\n",
    "        iline = table2.iloc[line].to_dict()\n",
    "        if iline[dataset] == \"nan\": continue\n",
    "        ID = iline[\"Model\"] + \"_\" + iline[\"Training_Method\"] + \"_\" + dataset\n",
    "        if ID in results:\n",
    "            table2.loc[line,dataset] = \"{:.2f}%\".format(results[ID])\n",
    "display(HTML(table2.fillna(\"\").to_html(notebook=True)))"
   ]
  },
  {
   "attachments": {},
   "cell_type": "markdown",
   "metadata": {},
   "source": [
    "### figure 3\n",
    "We can reuse result saved while training table 2"
   ]
  },
  {
   "attachments": {},
   "cell_type": "markdown",
   "metadata": {},
   "source": [
    "### figure 4"
   ]
  },
  {
   "cell_type": "code",
   "execution_count": null,
   "metadata": {},
   "outputs": [],
   "source": []
  }
 ],
 "metadata": {
  "kernelspec": {
   "display_name": "cudaenabled",
   "language": "python",
   "name": "python3"
  },
  "language_info": {
   "codemirror_mode": {
    "name": "ipython",
    "version": 3
   },
   "file_extension": ".py",
   "mimetype": "text/x-python",
   "name": "python",
   "nbconvert_exporter": "python",
   "pygments_lexer": "ipython3",
   "version": "3.10.8"
  },
  "orig_nbformat": 4,
  "vscode": {
   "interpreter": {
    "hash": "e63968e63be298c54f0ef6fc5f307c0f048e4cbeb5634e9b9b715fe9de39ba43"
   }
  }
 },
 "nbformat": 4,
 "nbformat_minor": 2
}
