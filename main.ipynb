{
 "cells": [
  {
   "cell_type": "code",
   "execution_count": 1,
   "metadata": {},
   "outputs": [],
   "source": [
    "import importlib\n",
    "from networks.network_trainer import NetworkTrainer,NetworkOptimizer\n",
    "import pandas as pd"
   ]
  },
  {
   "cell_type": "code",
   "execution_count": 2,
   "metadata": {},
   "outputs": [
    {
     "name": "stdout",
     "output_type": "stream",
     "text": [
      "Files already downloaded and verified\n",
      "Files already downloaded and verified\n",
      "Using downloaded and verified file: ./data/train_32x32.mat\n"
     ]
    },
    {
     "data": {
      "text/plain": [
       "Dataset SVHN\n",
       "    Number of datapoints: 73257\n",
       "    Root location: ./data\n",
       "    Split: train"
      ]
     },
     "execution_count": 2,
     "metadata": {},
     "output_type": "execute_result"
    }
   ],
   "source": [
    "import torchvision\n",
    "torchvision.datasets.CIFAR10(root='./data', download=True)\n",
    "torchvision.datasets.CIFAR100(root='./data', download=True)\n",
    "torchvision.datasets.SVHN(root='./data', download=True)\n"
   ]
  },
  {
   "cell_type": "code",
   "execution_count": 3,
   "metadata": {},
   "outputs": [
    {
     "name": "stdout",
     "output_type": "stream",
     "text": [
      "Calculating base accuracy\n",
      "Training Network: S-CONV, CIFAR-10, SGD using : 255.802546 M parameters on cuda\n",
      "¤¤¤¤¤¤¤¤¤¤¤¤¤¤¤¤¤¤¤¤¤¤¤¤¤|¤¤¤¤¤¤¤¤¤¤¤¤¤¤¤¤¤"
     ]
    }
   ],
   "source": [
    "network = pd.read_json(\"network_description/table2.json\")\n",
    "network.iloc[0].to_dict()\n",
    "net = network.iloc[0].to_dict()\n",
    "net[\"epoch\"]= 100\n",
    "optimize = {\n",
    "    #\"optimizer_params.momentum\" : [0.9,0],\n",
    "    \"model_params.dropout_1\" : [False,True],\n",
    "    \"model_params.dropout_2\" : [False,True],\n",
    "    \"optimizer_params.weight_decay\" : [0,1e-4,0.0002,0.0005,1e-3],\n",
    "    \"scheduler_params.T_0\": [50,5,20],\n",
    "    \"scheduler_params.T_mult\": [1,2,5]\n",
    "}\n",
    "onj = NetworkOptimizer(net,net[\"optimize\"],True,False)\n",
    "print(onj)"
   ]
  },
  {
   "cell_type": "code",
   "execution_count": null,
   "metadata": {},
   "outputs": [],
   "source": [
    "table2 = pd.read_csv(\"csv/table2.csv\")\n",
    "network = pd.read_json(\"network_description/table2.json\")\n",
    "for line in range(table2.__len__()):\n",
    "    for dataset in [\"CIFAR-10\",\"SVHN\",\"CIFAR-100\" ] : #\n",
    "        if(table2.loc[line,dataset] == \"NaN\"):\n",
    "            continue\n",
    "        network_data = network.loc[\n",
    "            (network[\"model\"]==table2.loc[line,\"Model\"]) &\n",
    "            (network[\"training_method\"]==table2.loc[line,\"Training_Method\"]) &\n",
    "            (network[\"dataset\"]==dataset)].iloc[0].to_dict()\n",
    "        acc,net = NetworkTrainer(network_data)\n",
    "        table2.loc[line,dataset] = str(acc) + \"%\"\n",
    "        print(\"Accuracy :\", acc, \"%\\n\")\n",
    "        table2.to_csv(\"csv/table2.csv\",index=False)"
   ]
  }
 ],
 "metadata": {
  "kernelspec": {
   "display_name": "cudaenabled",
   "language": "python",
   "name": "python3"
  },
  "language_info": {
   "codemirror_mode": {
    "name": "ipython",
    "version": 3
   },
   "file_extension": ".py",
   "mimetype": "text/x-python",
   "name": "python",
   "nbconvert_exporter": "python",
   "pygments_lexer": "ipython3",
   "version": "3.10.8"
  },
  "orig_nbformat": 4,
  "vscode": {
   "interpreter": {
    "hash": "e63968e63be298c54f0ef6fc5f307c0f048e4cbeb5634e9b9b715fe9de39ba43"
   }
  }
 },
 "nbformat": 4,
 "nbformat_minor": 2
}
