{
 "cells": [
  {
   "cell_type": "code",
   "execution_count": 4,
   "metadata": {},
   "outputs": [
    {
     "name": "stdout",
     "output_type": "stream",
     "text": [
      "Files already downloaded and verified\n",
      "Files already downloaded and verified\n",
      "Using downloaded and verified file: ./data/train_32x32.mat\n"
     ]
    },
    {
     "data": {
      "text/plain": [
       "Dataset SVHN\n",
       "    Number of datapoints: 73257\n",
       "    Root location: ./data\n",
       "    Split: train"
      ]
     },
     "execution_count": 4,
     "metadata": {},
     "output_type": "execute_result"
    }
   ],
   "source": [
    "import importlib\n",
    "import networks.network_trainer as ntr\n",
    "import pandas as pd\n",
    "importlib.reload(ntr)\n",
    "\n",
    "\n",
    "import torchvision\n",
    "torchvision.datasets.CIFAR10(root='./data', download=True)\n",
    "torchvision.datasets.CIFAR100(root='./data', download=True)\n",
    "torchvision.datasets.SVHN(root='./data', download=True)\n"
   ]
  },
  {
   "cell_type": "code",
   "execution_count": 8,
   "metadata": {},
   "outputs": [
    {
     "name": "stdout",
     "output_type": "stream",
     "text": [
      "Network Trainer: S-CONV,SGD,CIFAR-10 -> S-CONV_SGD_CIFAR-10_512_4000\n",
      "number of parameters : 255.792754 M\n",
      "Network Trainer: S-CONV,SGD,SVHN -> S-CONV_SGD_SVHN_512_4000\n",
      "number of parameters : 250.802806 M\n",
      "Network Trainer: S-CONV,SGD,CIFAR-100 -> S-CONV_SGD_CIFAR-100_512_4000\n",
      "number of parameters : 253.730206 M\n",
      "Network Trainer: S-FC,SGD,CIFAR-10 -> S-FC_SGD_CIFAR-10_512_4000\n",
      "number of parameters : 256.28311 M\n",
      "Network Trainer: S-FC,SGD,SVHN -> S-FC_SGD_SVHN_512_4000\n",
      "number of parameters : 253.6591 M\n",
      "Network Trainer: S-FC,SGD,CIFAR-100 -> S-FC_SGD_CIFAR-100_512_4000\n",
      "number of parameters : 251.367148 M\n"
     ]
    }
   ],
   "source": [
    "table2 = pd.read_csv(\"csv/table2.csv\")\n",
    "network = pd.read_csv(\"csv/network_information.csv\")\n",
    "for line in range(table2.__len__()):\n",
    "    for data in [\"CIFAR-10\",\"SVHN\",\"CIFAR-100\" ] : #\n",
    "        if(table2.loc[line,data] == \"NaN\"):\n",
    "            continue\n",
    "        network_data = network.loc[\n",
    "            (network[\"use\"]==\"table2\")  &\n",
    "            (network[\"model\"]==table2.loc[line,\"Model\"]) &\n",
    "            (network[\"training_method\"]==table2.loc[line,\"Training_Method\"]) &\n",
    "            (network[\"dataset\"]==data)].iloc[0]\n",
    "        net =  ntr.NetworkTrainer(network_data)\n",
    "        print(net.__str__())\n",
    "        print(\"number of parameters :\",sum(p.numel() for p in net.model.parameters())/1000000,\"M\")\n",
    "        net.train()\n",
    "        table2.loc[line,data] = str(net.getAccuracy()) + \"%\"\n",
    "        print(\"Accuracy :\", net.getAccuracy(), \"%\\n\")\n",
    "        table2.to_csv(\"csv/table2.csv\",index=False)\n",
    "\n",
    "\n"
   ]
  }
 ],
 "metadata": {
  "kernelspec": {
   "display_name": "cudaenabled",
   "language": "python",
   "name": "python3"
  },
  "language_info": {
   "codemirror_mode": {
    "name": "ipython",
    "version": 3
   },
   "file_extension": ".py",
   "mimetype": "text/x-python",
   "name": "python",
   "nbconvert_exporter": "python",
   "pygments_lexer": "ipython3",
   "version": "3.10.8"
  },
  "orig_nbformat": 4,
  "vscode": {
   "interpreter": {
    "hash": "e63968e63be298c54f0ef6fc5f307c0f048e4cbeb5634e9b9b715fe9de39ba43"
   }
  }
 },
 "nbformat": 4,
 "nbformat_minor": 2
}
