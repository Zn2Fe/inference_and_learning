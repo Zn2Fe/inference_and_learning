{
 "cells": [
  {
   "cell_type": "code",
   "execution_count": null,
   "metadata": {},
   "outputs": [],
   "source": [
    "INIT_PATH = \".\"\n",
    "DOWNLOAD_DATA = False\n",
    "\n",
    "# To use google colab processing uncomment following lines\n",
    "\n",
    "#INIT_PATH = \"MyDrive/inference_and_learning\"\n",
    "#from google.colab import drive\n",
    "#MOUNT_PATH = \"/content/drive\"\n",
    "#drive.mount(MOUNT_PATH)\n",
    "#INIT_PATH = MOUNT_PATH + \"/\" + INIT_PATH\n",
    "#DOWNLOAD_DATA = True\n",
    "\n",
    "# To train set to true, to use pretrained model set to false\n",
    "RETRAIN = False\n",
    "LOCAL_TRAIN = True # Only for Local Linear Model\n",
    "# To avoid out of memory error, adjust \n",
    "NUM_THREADS = 3"
   ]
  },
  {
   "cell_type": "code",
   "execution_count": null,
   "metadata": {},
   "outputs": [],
   "source": [
    "import os.path,sys\n",
    "sys.path.append(INIT_PATH)\n",
    "\n",
    "import networks as nnets\n",
    "import importlib\n",
    "importlib.reload(nnets)\n",
    "\n",
    "import pandas as pd, torch, torchvision,matplotlib, matplotlib.pyplot as plt, numpy as np\n",
    "from typing import Tuple, List, Dict, Union\n",
    "\n",
    "from time import sleep\n",
    "import json\n",
    "from IPython.display import display, HTML\n",
    "torch.set_default_dtype(torch.float16)"
   ]
  },
  {
   "cell_type": "code",
   "execution_count": null,
   "metadata": {},
   "outputs": [],
   "source": [
    "DATA_PATH = \".\" # Path to data folder\n",
    "if (DOWNLOAD_DATA):\n",
    "    torchvision.datasets.CIFAR10(root=DATA_PATH + '/data', download=True)\n",
    "    torchvision.datasets.CIFAR100(root=DATA_PATH + '/data', download=True)\n",
    "    torchvision.datasets.SVHN(root=DATA_PATH +'/data', download=True)\n",
    "\n",
    "    torchvision.datasets.CIFAR10(root=DATA_PATH +'/data', download=True,train = False)\n",
    "    torchvision.datasets.CIFAR100(root=DATA_PATH +'/data', download=True ,train = False) \n",
    "    torchvision.datasets.SVHN(root=DATA_PATH +'/data', download=True, split = \"test\")\n"
   ]
  },
  {
   "cell_type": "code",
   "execution_count": null,
   "metadata": {},
   "outputs": [],
   "source": [
    "trainer = nnets.ThreadedTrainer(\n",
    "    num_threads= NUM_THREADS,\n",
    "    DATA_PATH=DATA_PATH,\n",
    "    SAVE_RESULT_PATH= INIT_PATH + \"/files/results.json\",\n",
    "    SAVE_NETWORK_PATH=INIT_PATH + \"/networks_saved/\",\n",
    "    SAVE_NON_ZERO_PATH = INIT_PATH + \"/files/non_zero.json\",\n",
    "    saving_step= 20\n",
    ")"
   ]
  },
  {
   "attachments": {},
   "cell_type": "markdown",
   "metadata": {},
   "source": [
    "### Optimization\n"
   ]
  },
  {
   "attachments": {},
   "cell_type": "markdown",
   "metadata": {},
   "source": [
    "You may use this script to test different hyperparameters\n",
    "Load the network description in the file files/optim.json\n",
    "The file is a json file with the following structure :\n",
    "```json\n",
    "{\n",
    "    \"optim\":{ // Hyperparameters to optimize\n",
    "        \"model\":{ // Hyperparameters to optimize for the model\n",
    "            \"S-LOCAL\":{ // Model you want to optimize hyperparameters on \n",
    "                \"hidden_size\":[64,128,256,512], // List of values to test\n",
    "                \"dropout\":[0.1,0.2,0.3,0.4,0.5] // List of values to test\n",
    "            }\n",
    "        }\n",
    "    },\n",
    "    \"networks\":{ // List of networks to test\n",
    "        \"S-LOCAL-64-0.1\":{ // Name of the network\n",
    "            //add the network default description here\n",
    "        }\n",
    "    },\n",
    "    \"results\":{ // Results of the optimization\n",
    "        \"S-LOCAL-64-0.1\":{ //Name of the network\n",
    "            \"best\":{ \n",
    "                // Best hyperparameters found\n",
    "            },\n",
    "            \"accuracy\":0.9 // Accuracy of the best hyperparameters\n",
    "        }\n",
    "    }\n",
    "}\n",
    "```"
   ]
  },
  {
   "cell_type": "code",
   "execution_count": null,
   "metadata": {},
   "outputs": [],
   "source": [
    "\n",
    "optim = json.load(open(INIT_PATH+\"/files/optim.json\"))\n",
    "\n",
    "list_to_do = [key for key,item in optim[\"networks\"].items() if\n",
    "            key not in optim[\"results\"] and\n",
    "            not (not LOCAL_TRAIN and item[\"model\"][\"name\"] in [\"S-LOCAL\",\"D-LOCAL\"])]\n",
    "\n",
    "for key in list_to_do:\n",
    "    nnets.optimization_thread(optim,key, trainer)\n",
    "    "
   ]
  }
 ],
 "metadata": {
  "kernelspec": {
   "display_name": "cudaenabled",
   "language": "python",
   "name": "python3"
  },
  "language_info": {
   "name": "python",
   "version": "3.10.8 (main, Nov 24 2022, 14:13:03) [GCC 11.2.0]"
  },
  "orig_nbformat": 4,
  "vscode": {
   "interpreter": {
    "hash": "e63968e63be298c54f0ef6fc5f307c0f048e4cbeb5634e9b9b715fe9de39ba43"
   }
  }
 },
 "nbformat": 4,
 "nbformat_minor": 2
}
